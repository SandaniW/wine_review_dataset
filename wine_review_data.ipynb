{
 "cells": [
  {
   "cell_type": "code",
   "execution_count": 11,
   "metadata": {},
   "outputs": [
    {
     "name": "stdout",
     "output_type": "stream",
     "text": [
      "                                              review\n",
      "0  Easily the best Sauvignon Blanc I've had to da...\n",
      "1                      Excellent, Mockingbird Inn?\\n\n",
      "2  Absolutely incredible. One of the best sauvign...\n",
      "3                   Reported in nytimes. Did not try\n",
      "4  Great. Much different than other Sauv Blancs s...\n",
      "5  This was a nice, balanced, SVB. Just enough Ap...\n",
      "6  Oak and stone first, followed by a little peac...\n",
      "7  Stunning, delicious, sophisticated, incomparab...\n",
      "8  Fantastic expression of Napa Sav Blanc.  Incre...\n",
      "9  I think this is my first Cali Sauvignon Blanc....\n"
     ]
    }
   ],
   "source": [
    "import pandas as pd\n",
    "\n",
    "data = pd.read_csv('wine_reviews.csv')\n",
    "print(data.head(10))"
   ]
  },
  {
   "cell_type": "code",
   "execution_count": 35,
   "metadata": {},
   "outputs": [],
   "source": [
    "import re\n",
    "\n",
    "#data cleaning\n",
    "data['cleaned_review'] = data['review'].dropna()\n",
    "data['cleaned_review'] = data['cleaned_review'].str.lower()\n",
    "data['cleaned_review'] = data['cleaned_review'].apply(lambda x:re.sub(r'[^\\w\\s]','',x))\n",
    "#remove stop words\n",
    "#have to probably create a stop words model on our own"
   ]
  },
  {
   "cell_type": "code",
   "execution_count": null,
   "metadata": {},
   "outputs": [],
   "source": []
  }
 ],
 "metadata": {
  "kernelspec": {
   "display_name": "Python 3 (ipykernel)",
   "language": "python",
   "name": "python3"
  },
  "language_info": {
   "codemirror_mode": {
    "name": "ipython",
    "version": 3
   },
   "file_extension": ".py",
   "mimetype": "text/x-python",
   "name": "python",
   "nbconvert_exporter": "python",
   "pygments_lexer": "ipython3",
   "version": "3.12.7"
  }
 },
 "nbformat": 4,
 "nbformat_minor": 4
}
